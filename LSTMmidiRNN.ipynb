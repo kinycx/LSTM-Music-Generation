{
  "nbformat": 4,
  "nbformat_minor": 0,
  "metadata": {
    "colab": {
      "name": "LSTMmidiRNN.ipynb",
      "provenance": [],
      "collapsed_sections": [],
      "toc_visible": true,
      "mount_file_id": "1x_OzdkLqMp2UZRAqfATehzoJzcDJj3ZA",
      "authorship_tag": "ABX9TyNfUe46ME2F/X2CO5av1mfN",
      "include_colab_link": true
    },
    "kernelspec": {
      "display_name": "Python 3",
      "name": "python3"
    },
    "accelerator": "GPU"
  },
  "cells": [
    {
      "cell_type": "markdown",
      "metadata": {
        "id": "view-in-github",
        "colab_type": "text"
      },
      "source": [
        "<a href=\"https://colab.research.google.com/github/kinycx/LSTM-Music-Generation/blob/main/LSTMmidiRNN.ipynb\" target=\"_parent\"><img src=\"https://colab.research.google.com/assets/colab-badge.svg\" alt=\"Open In Colab\"/></a>"
      ]
    },
    {
      "cell_type": "markdown",
      "metadata": {
        "id": "ZGg8Q_G1mfWa"
      },
      "source": [
        "# LSTM Music Generation \n",
        "\n",
        "\n",
        "Andremo a generare delle composizioni musicali utilizzando una rete neurale LSTM (Long Short-Term Memory).\n",
        "Addestreremo la rete con **file MIDI** che contengono informazioni su note, accordi, pitch ecc. riguardanti la composizione musicale.\n",
        "La nostra rete sara' in grado di generare nuovi file MIDI.\n",
        "\n",
        "\n",
        "**NOTA:** I file MIDI non sono file audio."
      ]
    },
    {
      "cell_type": "code",
      "metadata": {
        "id": "9Sg5r5GDmsSX"
      },
      "source": [
        "# Imposta a False se non si sta utilizzando\n",
        "# questo notebook in Google Colaboratory\n",
        "run_on_colab = True"
      ],
      "execution_count": null,
      "outputs": []
    },
    {
      "cell_type": "markdown",
      "metadata": {
        "id": "Nyct8kYUoWRB"
      },
      "source": [
        " \n",
        "## Reti LSTM\n",
        "Le Long Short-Term Memory networks sono una tipologia di **Rete Neurale Ricorrente (RNN)**. \n",
        "Sono reti il cui output dipende dai suoi precenti. Questo loro comportamento iterativo le rende l'opzione perfetta per lavorare con sequenze (una composizione musicale altro non e' se non una sequenza di note in funzione del tempo) e liste.\n",
        " \n",
        " \n",
        "Come si puo' vedere da [questo post sulle reti LSTM](http://colah.github.io/posts/2015-08-Understanding-LSTMs/) , una RNN puo' essere vista come copie multiple della stessa rete, ognuna trasportante un messaggio alla successiva.\n",
        " \n",
        "![RNN vs DNN t](http://colah.github.io/posts/2015-08-Understanding-LSTMs/img/RNN-unrolled.png)\n",
        " \n",
        " \n",
        " \n",
        " \n",
        "Il problema giunge quando si ha a che fare con le **LTD** (Long-Term Dependencies). Nonostante in teoria una RNN dovrebbe essere in grado di gestire questo gap di informazioni, alcune ricerche hanno trovato ragioni per le quali potrebbe essere difficile riuscirci. Le LSTM sono particolari RNN capaci di apprendere dalle LTD in quanto progettate per ricordare informazioni per lunghi periodi.\n",
        " \n",
        " \n",
        "## Music generation\n",
        "Per addestrare il modello verrano usati [file MIDI](https://it.wikipedia.org/wiki/MIDI).\n",
        "Come gia' spiegato i MIDI contengono **informazioni sulla composizione**, ma non sono tracce audio. Contengono informazioni sulla notazione adottata, il pitch, la velocity, il vibrato, il panning, e segnali clock (che indicano il tempo).\n",
        " \n",
        "Esistono alcuni sintetizzatori virtuali (come Ableton) che consentono di trasformare queste informazioni in vere tracce audio. Il modello apprendera' da questi file MIDI e sara' in grado di generarne nuovi da zero.\n",
        " \n",
        "![MIDI file in Ableton](https://i.ytimg.com/vi/d5bmDnuOFv4/maxresdefault.jpg)"
      ]
    },
    {
      "cell_type": "markdown",
      "metadata": {
        "id": "X0K6DOXhzDcQ"
      },
      "source": [
        "## Configurazione Google drive (per Google Colab)\n",
        "Accesso all'account di **Google Drive** per utilizzare i file in Jupyter notebook.\n"
      ]
    },
    {
      "cell_type": "code",
      "metadata": {
        "colab": {
          "base_uri": "https://localhost:8080/",
          "height": 541
        },
        "id": "bL65VyvfpL0U",
        "outputId": "8c80dde0-beac-47de-8515-d7b5b918a8cc"
      },
      "source": [
        "if(run_on_colab):\n",
        "  from google.colab import drive\n",
        "  # This will prompt for authorization.\n",
        "  drive.mount(\"/content/drive\", force_remount=True)"
      ],
      "execution_count": null,
      "outputs": [
        {
          "output_type": "error",
          "ename": "KeyboardInterrupt",
          "evalue": "ignored",
          "traceback": [
            "\u001b[0;31m---------------------------------------------------------------------------\u001b[0m",
            "\u001b[0;31mKeyboardInterrupt\u001b[0m                         Traceback (most recent call last)",
            "\u001b[0;32m/usr/local/lib/python3.7/dist-packages/ipykernel/kernelbase.py\u001b[0m in \u001b[0;36m_input_request\u001b[0;34m(self, prompt, ident, parent, password)\u001b[0m\n\u001b[1;32m    728\u001b[0m             \u001b[0;32mtry\u001b[0m\u001b[0;34m:\u001b[0m\u001b[0;34m\u001b[0m\u001b[0;34m\u001b[0m\u001b[0m\n\u001b[0;32m--> 729\u001b[0;31m                 \u001b[0mident\u001b[0m\u001b[0;34m,\u001b[0m \u001b[0mreply\u001b[0m \u001b[0;34m=\u001b[0m \u001b[0mself\u001b[0m\u001b[0;34m.\u001b[0m\u001b[0msession\u001b[0m\u001b[0;34m.\u001b[0m\u001b[0mrecv\u001b[0m\u001b[0;34m(\u001b[0m\u001b[0mself\u001b[0m\u001b[0;34m.\u001b[0m\u001b[0mstdin_socket\u001b[0m\u001b[0;34m,\u001b[0m \u001b[0;36m0\u001b[0m\u001b[0;34m)\u001b[0m\u001b[0;34m\u001b[0m\u001b[0;34m\u001b[0m\u001b[0m\n\u001b[0m\u001b[1;32m    730\u001b[0m             \u001b[0;32mexcept\u001b[0m \u001b[0mException\u001b[0m\u001b[0;34m:\u001b[0m\u001b[0;34m\u001b[0m\u001b[0;34m\u001b[0m\u001b[0m\n",
            "\u001b[0;32m/usr/local/lib/python3.7/dist-packages/jupyter_client/session.py\u001b[0m in \u001b[0;36mrecv\u001b[0;34m(self, socket, mode, content, copy)\u001b[0m\n\u001b[1;32m    802\u001b[0m         \u001b[0;32mtry\u001b[0m\u001b[0;34m:\u001b[0m\u001b[0;34m\u001b[0m\u001b[0;34m\u001b[0m\u001b[0m\n\u001b[0;32m--> 803\u001b[0;31m             \u001b[0mmsg_list\u001b[0m \u001b[0;34m=\u001b[0m \u001b[0msocket\u001b[0m\u001b[0;34m.\u001b[0m\u001b[0mrecv_multipart\u001b[0m\u001b[0;34m(\u001b[0m\u001b[0mmode\u001b[0m\u001b[0;34m,\u001b[0m \u001b[0mcopy\u001b[0m\u001b[0;34m=\u001b[0m\u001b[0mcopy\u001b[0m\u001b[0;34m)\u001b[0m\u001b[0;34m\u001b[0m\u001b[0;34m\u001b[0m\u001b[0m\n\u001b[0m\u001b[1;32m    804\u001b[0m         \u001b[0;32mexcept\u001b[0m \u001b[0mzmq\u001b[0m\u001b[0;34m.\u001b[0m\u001b[0mZMQError\u001b[0m \u001b[0;32mas\u001b[0m \u001b[0me\u001b[0m\u001b[0;34m:\u001b[0m\u001b[0;34m\u001b[0m\u001b[0;34m\u001b[0m\u001b[0m\n",
            "\u001b[0;32m/usr/local/lib/python3.7/dist-packages/zmq/sugar/socket.py\u001b[0m in \u001b[0;36mrecv_multipart\u001b[0;34m(self, flags, copy, track)\u001b[0m\n\u001b[1;32m    582\u001b[0m         \"\"\"\n\u001b[0;32m--> 583\u001b[0;31m         \u001b[0mparts\u001b[0m \u001b[0;34m=\u001b[0m \u001b[0;34m[\u001b[0m\u001b[0mself\u001b[0m\u001b[0;34m.\u001b[0m\u001b[0mrecv\u001b[0m\u001b[0;34m(\u001b[0m\u001b[0mflags\u001b[0m\u001b[0;34m,\u001b[0m \u001b[0mcopy\u001b[0m\u001b[0;34m=\u001b[0m\u001b[0mcopy\u001b[0m\u001b[0;34m,\u001b[0m \u001b[0mtrack\u001b[0m\u001b[0;34m=\u001b[0m\u001b[0mtrack\u001b[0m\u001b[0;34m)\u001b[0m\u001b[0;34m]\u001b[0m\u001b[0;34m\u001b[0m\u001b[0;34m\u001b[0m\u001b[0m\n\u001b[0m\u001b[1;32m    584\u001b[0m         \u001b[0;31m# have first part already, only loop while more to receive\u001b[0m\u001b[0;34m\u001b[0m\u001b[0;34m\u001b[0m\u001b[0;34m\u001b[0m\u001b[0m\n",
            "\u001b[0;32mzmq/backend/cython/socket.pyx\u001b[0m in \u001b[0;36mzmq.backend.cython.socket.Socket.recv\u001b[0;34m()\u001b[0m\n",
            "\u001b[0;32mzmq/backend/cython/socket.pyx\u001b[0m in \u001b[0;36mzmq.backend.cython.socket.Socket.recv\u001b[0;34m()\u001b[0m\n",
            "\u001b[0;32mzmq/backend/cython/socket.pyx\u001b[0m in \u001b[0;36mzmq.backend.cython.socket._recv_copy\u001b[0;34m()\u001b[0m\n",
            "\u001b[0;32m/usr/local/lib/python3.7/dist-packages/zmq/backend/cython/checkrc.pxd\u001b[0m in \u001b[0;36mzmq.backend.cython.checkrc._check_rc\u001b[0;34m()\u001b[0m\n",
            "\u001b[0;31mKeyboardInterrupt\u001b[0m: ",
            "\nDuring handling of the above exception, another exception occurred:\n",
            "\u001b[0;31mKeyboardInterrupt\u001b[0m                         Traceback (most recent call last)",
            "\u001b[0;32m<ipython-input-2-0dcc398bf7e0>\u001b[0m in \u001b[0;36m<module>\u001b[0;34m()\u001b[0m\n\u001b[1;32m      2\u001b[0m   \u001b[0;32mfrom\u001b[0m \u001b[0mgoogle\u001b[0m\u001b[0;34m.\u001b[0m\u001b[0mcolab\u001b[0m \u001b[0;32mimport\u001b[0m \u001b[0mdrive\u001b[0m\u001b[0;34m\u001b[0m\u001b[0;34m\u001b[0m\u001b[0m\n\u001b[1;32m      3\u001b[0m   \u001b[0;31m# This will prompt for authorization.\u001b[0m\u001b[0;34m\u001b[0m\u001b[0;34m\u001b[0m\u001b[0;34m\u001b[0m\u001b[0m\n\u001b[0;32m----> 4\u001b[0;31m   \u001b[0mdrive\u001b[0m\u001b[0;34m.\u001b[0m\u001b[0mmount\u001b[0m\u001b[0;34m(\u001b[0m\u001b[0;34m\"/content/drive\"\u001b[0m\u001b[0;34m,\u001b[0m \u001b[0mforce_remount\u001b[0m\u001b[0;34m=\u001b[0m\u001b[0;32mTrue\u001b[0m\u001b[0;34m)\u001b[0m\u001b[0;34m\u001b[0m\u001b[0;34m\u001b[0m\u001b[0m\n\u001b[0m",
            "\u001b[0;32m/usr/local/lib/python3.7/dist-packages/google/colab/drive.py\u001b[0m in \u001b[0;36mmount\u001b[0;34m(mountpoint, force_remount, timeout_ms, use_metadata_server)\u001b[0m\n\u001b[1;32m    258\u001b[0m       \u001b[0;32mwith\u001b[0m \u001b[0m_output\u001b[0m\u001b[0;34m.\u001b[0m\u001b[0muse_tags\u001b[0m\u001b[0;34m(\u001b[0m\u001b[0;34m'dfs-auth-dance'\u001b[0m\u001b[0;34m)\u001b[0m\u001b[0;34m:\u001b[0m\u001b[0;34m\u001b[0m\u001b[0;34m\u001b[0m\u001b[0m\n\u001b[1;32m    259\u001b[0m         \u001b[0;32mwith\u001b[0m \u001b[0mopen\u001b[0m\u001b[0;34m(\u001b[0m\u001b[0mfifo\u001b[0m\u001b[0;34m,\u001b[0m \u001b[0;34m'w'\u001b[0m\u001b[0;34m)\u001b[0m \u001b[0;32mas\u001b[0m \u001b[0mfifo_file\u001b[0m\u001b[0;34m:\u001b[0m\u001b[0;34m\u001b[0m\u001b[0;34m\u001b[0m\u001b[0m\n\u001b[0;32m--> 260\u001b[0;31m           \u001b[0mfifo_file\u001b[0m\u001b[0;34m.\u001b[0m\u001b[0mwrite\u001b[0m\u001b[0;34m(\u001b[0m\u001b[0mget_code\u001b[0m\u001b[0;34m(\u001b[0m\u001b[0mauth_prompt\u001b[0m\u001b[0;34m)\u001b[0m \u001b[0;34m+\u001b[0m \u001b[0;34m'\\n'\u001b[0m\u001b[0;34m)\u001b[0m\u001b[0;34m\u001b[0m\u001b[0;34m\u001b[0m\u001b[0m\n\u001b[0m\u001b[1;32m    261\u001b[0m       \u001b[0mwrote_to_fifo\u001b[0m \u001b[0;34m=\u001b[0m \u001b[0;32mTrue\u001b[0m\u001b[0;34m\u001b[0m\u001b[0;34m\u001b[0m\u001b[0m\n\u001b[1;32m    262\u001b[0m     \u001b[0;32melif\u001b[0m \u001b[0mcase\u001b[0m \u001b[0;34m==\u001b[0m \u001b[0;36m5\u001b[0m\u001b[0;34m:\u001b[0m\u001b[0;34m\u001b[0m\u001b[0;34m\u001b[0m\u001b[0m\n",
            "\u001b[0;32m/usr/local/lib/python3.7/dist-packages/ipykernel/kernelbase.py\u001b[0m in \u001b[0;36mraw_input\u001b[0;34m(self, prompt)\u001b[0m\n\u001b[1;32m    702\u001b[0m             \u001b[0mself\u001b[0m\u001b[0;34m.\u001b[0m\u001b[0m_parent_ident\u001b[0m\u001b[0;34m,\u001b[0m\u001b[0;34m\u001b[0m\u001b[0;34m\u001b[0m\u001b[0m\n\u001b[1;32m    703\u001b[0m             \u001b[0mself\u001b[0m\u001b[0;34m.\u001b[0m\u001b[0m_parent_header\u001b[0m\u001b[0;34m,\u001b[0m\u001b[0;34m\u001b[0m\u001b[0;34m\u001b[0m\u001b[0m\n\u001b[0;32m--> 704\u001b[0;31m             \u001b[0mpassword\u001b[0m\u001b[0;34m=\u001b[0m\u001b[0;32mFalse\u001b[0m\u001b[0;34m,\u001b[0m\u001b[0;34m\u001b[0m\u001b[0;34m\u001b[0m\u001b[0m\n\u001b[0m\u001b[1;32m    705\u001b[0m         )\n\u001b[1;32m    706\u001b[0m \u001b[0;34m\u001b[0m\u001b[0m\n",
            "\u001b[0;32m/usr/local/lib/python3.7/dist-packages/ipykernel/kernelbase.py\u001b[0m in \u001b[0;36m_input_request\u001b[0;34m(self, prompt, ident, parent, password)\u001b[0m\n\u001b[1;32m    732\u001b[0m             \u001b[0;32mexcept\u001b[0m \u001b[0mKeyboardInterrupt\u001b[0m\u001b[0;34m:\u001b[0m\u001b[0;34m\u001b[0m\u001b[0;34m\u001b[0m\u001b[0m\n\u001b[1;32m    733\u001b[0m                 \u001b[0;31m# re-raise KeyboardInterrupt, to truncate traceback\u001b[0m\u001b[0;34m\u001b[0m\u001b[0;34m\u001b[0m\u001b[0;34m\u001b[0m\u001b[0m\n\u001b[0;32m--> 734\u001b[0;31m                 \u001b[0;32mraise\u001b[0m \u001b[0mKeyboardInterrupt\u001b[0m\u001b[0;34m\u001b[0m\u001b[0;34m\u001b[0m\u001b[0m\n\u001b[0m\u001b[1;32m    735\u001b[0m             \u001b[0;32melse\u001b[0m\u001b[0;34m:\u001b[0m\u001b[0;34m\u001b[0m\u001b[0;34m\u001b[0m\u001b[0m\n\u001b[1;32m    736\u001b[0m                 \u001b[0;32mbreak\u001b[0m\u001b[0;34m\u001b[0m\u001b[0;34m\u001b[0m\u001b[0m\n",
            "\u001b[0;31mKeyboardInterrupt\u001b[0m: "
          ]
        }
      ]
    },
    {
      "cell_type": "markdown",
      "metadata": {
        "id": "SARIfCkuziSW"
      },
      "source": [
        "## Librerie utilizzate e dati\n",
        "Invece di utilizzare interamente i file MIDI, li elaboreremo per ottenere solo le informazioni utili allo scopo e scartare il resto. \n",
        "\n",
        "Per questo lavoro verra' usata la libreria [**music21**](http://web.mit.edu/music21/). Questa liberia consente di lavorare facilmente coi MIDI. \n",
        "Crea una sua rappresentazione dei MIDI, con oggetti **Note** di **Chord** che rappresentano la musica nei MIDI. E' una rappresentazione piu' facile da leggere rispetto ai MIDI e aiutera' la nostra rete a *capire* la musica e riuscire a creare nuove composizioni."
      ]
    },
    {
      "cell_type": "code",
      "metadata": {
        "colab": {
          "base_uri": "https://localhost:8080/"
        },
        "id": "u0slZyOU08O1",
        "outputId": "c8f9dea8-d71a-4a4c-df9d-e62a42d7ba42"
      },
      "source": [
        "!pip install music21;"
      ],
      "execution_count": null,
      "outputs": [
        {
          "output_type": "stream",
          "text": [
            "Requirement already satisfied: music21 in /usr/local/lib/python3.7/dist-packages (5.5.0)\n"
          ],
          "name": "stdout"
        }
      ]
    },
    {
      "cell_type": "markdown",
      "metadata": {
        "id": "YVj8gIZt1NKa"
      },
      "source": [
        "\n",
        "### Dataset MIDI\n",
        " I  **file MIDI** sono presi da [piano-midi.de](http://www.piano-midi.de/midis/format0/) oppure da [partnersinrhyme](https://www.partnersinrhyme.com/).\n",
        " \n",
        "Per una miglior accuratezza verranno utilizzate composizioni dello stesso artista. \n",
        "\n",
        "Ho compresso in un unico [file zip](https://drive.google.com/file/d/1DXRDETbAkBr1QHThmGMaPzTDwz_6yDov/view?usp=sharing) 50 midi con composizioni di **Chopin**\n",
        "\n",
        "E in un altro [file zip](https://drive.google.com/file/d/1yDpMAhVV5LG9YFP74_ZatiudmvzgCxJl/view?usp=sharing) 90 composizioni di musica classica dalla saga videoludica **Final Fantasy**. presi da The\n",
        " Final\n",
        " Fantasy,\n",
        " https://thefinalfantasy.net/site/midi-\n",
        "collection.html\n",
        "\n",
        " \n",
        "Se non si utilizza colab inserire **midi_files.zip** nella directory.\n",
        " \n",
        "\n"
      ]
    },
    {
      "cell_type": "code",
      "metadata": {
        "colab": {
          "resources": {
            "http://localhost:8080/nbextensions/google.colab/files.js": {
              "data": "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",
              "ok": true,
              "headers": [
                [
                  "content-type",
                  "application/javascript"
                ]
              ],
              "status": 200,
              "status_text": "OK"
            }
          },
          "base_uri": "https://localhost:8080/",
          "height": 83
        },
        "id": "bUj8mMvt1Lqq",
        "outputId": "8473f419-494d-4ae7-c4bc-f92a2eaed91f"
      },
      "source": [
        "if(run_on_colab):\n",
        "  from google.colab import files\n",
        "  files.upload()\n"
      ],
      "execution_count": null,
      "outputs": [
        {
          "output_type": "display_data",
          "data": {
            "text/html": [
              "\n",
              "     <input type=\"file\" id=\"files-602c56ef-a658-4fab-9ee2-0ba581f950f3\" name=\"files[]\" multiple disabled\n",
              "        style=\"border:none\" />\n",
              "     <output id=\"result-602c56ef-a658-4fab-9ee2-0ba581f950f3\">\n",
              "      Upload widget is only available when the cell has been executed in the\n",
              "      current browser session. Please rerun this cell to enable.\n",
              "      </output>\n",
              "      <script src=\"/nbextensions/google.colab/files.js\"></script> "
            ],
            "text/plain": [
              "<IPython.core.display.HTML object>"
            ]
          },
          "metadata": {
            "tags": []
          }
        },
        {
          "output_type": "stream",
          "text": [
            "Saving midi_files.zip to midi_files.zip\n"
          ],
          "name": "stdout"
        }
      ]
    },
    {
      "cell_type": "code",
      "metadata": {
        "colab": {
          "base_uri": "https://localhost:8080/"
        },
        "id": "WdaBFbR42f1c",
        "outputId": "8051a04f-d958-4a8f-a0a1-efed7d3235c9"
      },
      "source": [
        "!unzip midi_files.zip;"
      ],
      "execution_count": null,
      "outputs": [
        {
          "output_type": "stream",
          "text": [
            "Archive:  midi_files.zip\n",
            "   creating: midi_files/\n",
            "  inflating: midi_files/Finalfantasy6fanfarecomplete.mid  \n",
            "  inflating: midi_files/redwings.mid  \n",
            "  inflating: midi_files/ff4-town.mid  \n",
            "  inflating: midi_files/mining.mid   \n",
            "  inflating: midi_files/AT.mid       \n",
            "  inflating: midi_files/ahead_on_our_way_piano.mid  \n",
            "  inflating: midi_files/Final_Fantasy_7_-_Judgement_Day_Piano.mid  \n",
            "  inflating: midi_files/Fierce_Battle_(Piano).mid  \n",
            "  inflating: midi_files/traitor.mid  \n",
            "  inflating: midi_files/Final_Fantasy_Matouyas_Cave_Piano.mid  \n",
            "  inflating: midi_files/tifap.mid    \n",
            "  inflating: midi_files/rufus.mid    \n",
            "  inflating: midi_files/Gold_Silver_Rival_Battle.mid  \n",
            "  inflating: midi_files/Cids.mid     \n",
            "  inflating: midi_files/FF4.mid      \n",
            "  inflating: midi_files/ff11_awakening_piano.mid  \n",
            "  inflating: midi_files/Zelda_Overworld.mid  \n",
            "  inflating: midi_files/HighwindTakestotheSkies.mid  \n",
            "  inflating: midi_files/ff8-lfp.mid  \n",
            "  inflating: midi_files/goldsaucer.mid  \n",
            "  inflating: midi_files/VincentPiano.mid  \n",
            "  inflating: midi_files/Eternal_Harvest.mid  \n",
            "  inflating: midi_files/pkelite4.mid  \n",
            "  inflating: midi_files/ff4_piano_collections-main_theme.mid  \n",
            "  inflating: midi_files/cosmo.mid    \n",
            "  inflating: midi_files/decisive.mid  \n",
            "  inflating: midi_files/Finalfantasy5gilgameshp.mid  \n",
            "  inflating: midi_files/fortresscondor.mid  \n",
            "  inflating: midi_files/Ff7-Jenova_Absolute.mid  \n",
            "  inflating: midi_files/ff1battp.mid  \n",
            "  inflating: midi_files/ff6shap.mid  \n",
            "  inflating: midi_files/gerudo.mid   \n",
            "  inflating: midi_files/sera_.mid    \n",
            "  inflating: midi_files/ff4pclov.mid  \n",
            "  inflating: midi_files/In_Zanarkand.mid  \n",
            "  inflating: midi_files/Rydia_pc.mid  \n",
            "  inflating: midi_files/EyesOnMePiano.mid  \n",
            "  inflating: midi_files/tpirtsd-piano.mid  \n",
            "  inflating: midi_files/Rachel_Piano_tempofix.mid  \n",
            "  inflating: midi_files/lurk_in_dark.mid  \n",
            "  inflating: midi_files/FF8_Shuffle_or_boogie_pc.mid  \n",
            "  inflating: midi_files/electric_de_chocobo.mid  \n",
            "  inflating: midi_files/FFIXQuMarshP.mid  \n",
            "  inflating: midi_files/figaro.mid   \n",
            "  inflating: midi_files/sandy.mid    \n",
            "  inflating: midi_files/ff4-airship.mid  \n",
            "  inflating: midi_files/Kingdom_Hearts_Dearly_Beloved.mid  \n",
            "  inflating: midi_files/z_aeristhemepiano.mid  \n",
            "  inflating: midi_files/DOS.mid      \n",
            "  inflating: midi_files/Kingdom_Hearts_Traverse_Town.mid  \n",
            "  inflating: midi_files/FFX_-_Ending_Theme_(Piano_Version)_-_by_Angel_FF.mid  \n",
            "  inflating: midi_files/OTD5YA.mid   \n",
            "  inflating: midi_files/waltz_de_choco.mid  \n",
            "  inflating: midi_files/thenightmarebegins.mid  \n",
            "  inflating: midi_files/FF3_Battle_(Piano).mid  \n",
            "  inflating: midi_files/FFVII_BATTLE.mid  \n",
            "  inflating: midi_files/Oppressed.mid  \n",
            "  inflating: midi_files/balamb.mid   \n",
            "  inflating: midi_files/JENOVA.mid   \n",
            "  inflating: midi_files/Ff4-BattleLust.mid  \n",
            "  inflating: midi_files/dayafter.mid  \n",
            "  inflating: midi_files/Fiend_Battle_(Piano).mid  \n",
            "  inflating: midi_files/Life_Stream.mid  \n",
            "  inflating: midi_files/bcm.mid      \n",
            "  inflating: midi_files/BlueStone_LastDungeon.mid  \n",
            "  inflating: midi_files/0fithos.mid  \n",
            "  inflating: midi_files/ff4-fight1.mid  \n",
            "  inflating: midi_files/braska.mid   \n",
            "  inflating: midi_files/FF6epitaph_piano.mid  \n",
            "  inflating: midi_files/sobf.mid     \n",
            "  inflating: midi_files/FFIII_Edgar_And_Sabin_Piano.mid  \n",
            "  inflating: midi_files/ff7themep.mid  \n",
            "  inflating: midi_files/Ff7-One_Winged.mid  \n",
            "  inflating: midi_files/FF3_Third_Phase_Final_(Piano).mid  \n",
            "  inflating: midi_files/FFIX_Piano.mid  \n",
            "  inflating: midi_files/Fyw_piano.mid  \n",
            "  inflating: midi_files/ultros.mid   \n",
            "  inflating: midi_files/ff7-mainmidi.mid  \n",
            "  inflating: midi_files/relmstheme-piano.mid  \n",
            "  inflating: midi_files/dontbeafraid.mid  \n",
            "  inflating: midi_files/ultimafro.mid  \n",
            "  inflating: midi_files/Ff7-Cinco.mid  \n",
            "  inflating: midi_files/ViviinAlexandria.mid  \n",
            "  inflating: midi_files/Still_Alive-1.mid  \n",
            "  inflating: midi_files/great_war.mid  \n",
            "  inflating: midi_files/caitsith.mid  \n",
            "  inflating: midi_files/costadsol.mid  \n",
            "  inflating: midi_files/roseofmay-piano.mid  \n",
            "  inflating: midi_files/Suteki_Da_Ne_(Piano_Version).mid  \n",
            "  inflating: midi_files/8.mid        \n",
            "  inflating: midi_files/thoughts.mid  \n",
            "  inflating: midi_files/path_of_repentance.mid  \n"
          ],
          "name": "stdout"
        }
      ]
    },
    {
      "cell_type": "markdown",
      "metadata": {
        "id": "dcnNw2FS2nBF"
      },
      "source": [
        "## Elaborazione dati\n",
        "\n",
        "Carichiamo i dati in **music21**"
      ]
    },
    {
      "cell_type": "code",
      "metadata": {
        "id": "2sdKlp6a2vdh"
      },
      "source": [
        "# Dipendenze\n",
        "import glob\n",
        "import pickle\n",
        "import numpy\n",
        "import tensorflow as tf\n",
        "from music21 import converter, instrument, note, chord, stream\n",
        "from keras.models import Sequential\n",
        "from keras.layers import Dense, Dropout, LSTM, Activation\n",
        "from keras.utils import np_utils\n",
        "from keras.callbacks import ModelCheckpoint\n",
        "from keras.utils.vis_utils import plot_model\n",
        "import matplotlib.pyplot as plt\n"
      ],
      "execution_count": null,
      "outputs": []
    },
    {
      "cell_type": "markdown",
      "metadata": {
        "id": "W767KZoP23rs"
      },
      "source": [
        "Vediamo come la libreria **music21** rappresenta la musica.\n",
        "Abbiamo due elementi differenti:\n",
        "- **Notes**\n",
        "- **Chords**\n",
        "\n",
        "Inoltre abbiamo il time offset di ognuno degli elementi. Questo e' il trigger (come istante di tempo) di quando la nota o l'accordo dovra' essere suonato."
      ]
    },
    {
      "cell_type": "code",
      "metadata": {
        "colab": {
          "base_uri": "https://localhost:8080/"
        },
        "id": "04u6vr-v3l25",
        "outputId": "8627069f-3f46-4c35-d2a3-38c2e58e9ffa"
      },
      "source": [
        "# esempio\n",
        "file = \"/content/midi_files/VincentPiano.mid\"\n",
        "midi = converter.parse(file)\n",
        "notes_to_parse = midi.flat.notes\n",
        "startSong = []\n",
        "\n",
        "for element in notes_to_parse[:30]:\n",
        "\n",
        "  if isinstance(element, note.Note):\n",
        "      startSong.append(str(element.pitch))\n",
        "  elif isinstance(element, chord.Chord):\n",
        "      startSong.append('.'.join(str(n) for n in element.normalOrder))\n",
        "\n",
        "print(startSong)"
      ],
      "execution_count": null,
      "outputs": [
        {
          "output_type": "stream",
          "text": [
            "['B4', 'D5', 'F#5', 'B4', 'G5', 'F#5', 'E5', 'D5', 'E5', 'D5', 'C#5', 'D5', 'F#5', 'A5', 'D5', 'B5', 'A5', 'G5', 'F#5', 'G5', 'F#5', 'E5', 'F#5', 'G5', 'A5', 'C#5', 'E5', 'D5', 'C#5', 'D5']\n"
          ],
          "name": "stdout"
        }
      ]
    },
    {
      "cell_type": "markdown",
      "metadata": {
        "id": "CVOGeHxm4QNy"
      },
      "source": [
        "\n",
        "Elaboreremo i file MIDI ottenendo dati per ognua delle note o accordi.\n",
        "\n",
        "- Se viene elaborato un oggetto **note**, memorizzeremo in una lista una stringa che rappresenta il pitch (il nome della nota) e la sua ottava.\n",
        "\n",
        "- Se viene elaborato un oggetto **chord** (gli accordi sono piu' note suonate nello stesso istante di tempo) memorizzeremo un tipo diverso di stringa con numeri separati da punti. Ogni numero rappresenta il pitch di una delle note dell'accordo. \n",
        "\n",
        "**Non consideriamo l'offset dei singoli elementi**.\n",
        " Questo significa che tutte le note avranno la stessa durata.\n",
        "\n",
        "Viene crata quindi una grande lista con tutti gli elementi della composizione."
      ]
    },
    {
      "cell_type": "code",
      "metadata": {
        "colab": {
          "base_uri": "https://localhost:8080/"
        },
        "id": "tbn09Xcf4Nm3",
        "outputId": "e6d39fe6-d176-413a-d675-3d330f3827ce"
      },
      "source": [
        "notes = []\n",
        "for i,file in enumerate(glob.glob(\"midi_files/*.mid\")): # glob.glob consente di trovare tutti i path di file con estensione .mid\n",
        "  midi = converter.parse(file)\n",
        "  print('\\r', 'Parsing file ', i, \" \",file, end='')\n",
        "  notes_to_parse = None\n",
        "  try: # file has instrument parts\n",
        "    s2 = instrument.partitionByInstrument(midi)\n",
        "    notes_to_parse = s2.parts[0].recurse() # recurse consente di ottenere informazioni sulle note ignorando l'offset\n",
        "  except: # file has notes in a flat structure\n",
        "    notes_to_parse = midi.flat.notes\n",
        "    \n",
        "  for element in notes_to_parse:\n",
        "    if isinstance(element, note.Note):\n",
        "      notes.append(str(element.pitch))\n",
        "    elif isinstance(element, chord.Chord):\n",
        "      notes.append('.'.join(str(n) for n in element.normalOrder))\n",
        "with open('notes', 'wb') as filepath:\n",
        "  pickle.dump(notes, filepath)"
      ],
      "execution_count": null,
      "outputs": [
        {
          "output_type": "stream",
          "text": [
            " Parsing file  91   midi_files/Ff7-Jenova_Absolute.mid"
          ],
          "name": "stdout"
        }
      ]
    },
    {
      "cell_type": "markdown",
      "metadata": {
        "id": "fq8jiISM5vK8"
      },
      "source": [
        "\n",
        "Otteniamo il numero delle note e accordi nel nostro dataset perche' questo sara' il **numero delle possibili classi di output** del nostro modello."
      ]
    },
    {
      "cell_type": "code",
      "metadata": {
        "colab": {
          "base_uri": "https://localhost:8080/"
        },
        "id": "APJyT6i85wwh",
        "outputId": "fc2fcde9-b350-4575-a1c2-b612ea90d654"
      },
      "source": [
        "# Numero dei possibili output\n",
        "n_vocab = (len(set(notes)))\n",
        "n_vocab"
      ],
      "execution_count": null,
      "outputs": [
        {
          "output_type": "execute_result",
          "data": {
            "text/plain": [
              "358"
            ]
          },
          "metadata": {
            "tags": []
          },
          "execution_count": 42
        }
      ]
    },
    {
      "cell_type": "markdown",
      "metadata": {
        "id": "I-vKx2w56bMQ"
      },
      "source": [
        "\n",
        "Ora bisogna fare alcune elaborazioni dei dati:\n",
        "\n",
        "- Mapperemo tutti i pitch degli accordi in un intero\n",
        "- Creeremo coppie di sequenze di input e le loro note di output corrispondenti\n",
        "\n",
        "Si possono provare diverse **sequence_length** per ottenere risultati diversi. Per adesso useremo sequence_length = 100.\n",
        "\n",
        "La rete fara' la predizione della nota successiva (o accordo), in base alla *sequence_length* della nota (o accordo) precedente.\n"
      ]
    },
    {
      "cell_type": "code",
      "metadata": {
        "colab": {
          "base_uri": "https://localhost:8080/"
        },
        "id": "BeMrf6JW6egt",
        "outputId": "dec4b670-20c5-40d3-fe4f-74a1a28cae4e"
      },
      "source": [
        "sequence_length = 100\n",
        "# prende i nomi di tutti i pitch\n",
        "pitchnames = sorted(set(item for item in notes))\n",
        "print(pitchnames)\n",
        "# crea un dizionario per mappare i pitch agli interi\n",
        "note_to_int = dict((note, number) for number, note in enumerate(pitchnames))\n",
        "network_input = []\n",
        "network_output = []\n",
        "# crea sequenze di input e i loro output corrispondenti\n",
        "for i in range(0, len(notes) - sequence_length, 1):\n",
        "  sequence_in = notes[i:i + sequence_length] # Size sequence_length\n",
        "  sequence_out = notes[i + sequence_length]  # Size 1\n",
        "  \n",
        "  # Mappa i pitch di sequence_in in interi\n",
        "  network_input.append([note_to_int[char] for char in sequence_in])\n",
        "  # Mappa interi di sequence_out agli interi\n",
        "  network_output.append(note_to_int[sequence_out])\n",
        "  \n",
        "\n",
        "print('sequence_in: ', sequence_in)\n",
        "print('sequence_out: ', sequence_out)\n",
        "\n",
        "n_patterns = len(network_input)\n",
        "# reshape degli input in un formato compatibile con i layer LSTM\n",
        "network_input = numpy.reshape(network_input, (n_patterns, sequence_length, 1))\n",
        "# normalizza gli input\n",
        "network_input = network_input / float(n_vocab)\n",
        "network_output = np_utils.to_categorical(network_output)"
      ],
      "execution_count": null,
      "outputs": [
        {
          "output_type": "stream",
          "text": [
            "['0', '0.1', '0.1.5', '0.1.6', '0.2', '0.2.3.7', '0.2.4.7', '0.2.5', '0.2.6', '0.2.7', '0.3', '0.3.5', '0.3.5.8', '0.3.6', '0.3.6.8', '0.3.6.9', '0.3.7', '0.4', '0.4.5', '0.4.6', '0.4.7', '0.5', '0.5.6', '0.6', '1', '1.2', '1.2.4.6.8.10', '1.2.6', '1.2.6.8', '1.3', '1.3.5', '1.3.5.8', '1.3.6', '1.3.7', '1.3.8', '1.4', '1.4.6', '1.4.6.9', '1.4.7', '1.4.7.10', '1.4.7.9', '1.4.8', '1.5', '1.5.8', '1.5.9', '1.6', '1.7', '10', '10.0', '10.0.2.5', '10.0.3', '10.0.4', '10.0.5', '10.1', '10.1.3', '10.1.3.5.6', '10.1.3.6', '10.1.4', '10.1.4.6', '10.1.5', '10.11', '10.11.3', '10.11.3.5', '10.2', '10.2.3', '10.2.4', '10.2.5', '10.3', '11', '11.0', '11.0.4', '11.0.4.6', '11.0.4.7', '11.0.5', '11.1', '11.1.4', '11.1.4.5', '11.1.5', '11.1.6', '11.2', '11.2.4', '11.2.4.6', '11.2.4.7', '11.2.5', '11.2.5.7', '11.2.6', '11.3', '11.3.5', '11.3.6', '11.4', '11.4.5', '2', '2.3', '2.3.7', '2.3.7.10', '2.3.7.9', '2.4', '2.4.5', '2.4.5.9', '2.4.6.9.11', '2.4.7', '2.4.7.10', '2.4.8', '2.4.9', '2.5', '2.5.7', '2.5.7.10', '2.5.8', '2.5.8.10', '2.5.8.11', '2.5.9', '2.6', '2.6.10', '2.6.7', '2.6.7.9', '2.6.9', '2.7', '2.7.8', '2.8', '3', '3.4', '3.4.8', '3.4.8.10', '3.5', '3.5.10', '3.5.7', '3.5.7.10', '3.5.7.8.11', '3.5.8', '3.5.8.11', '3.6', '3.6.10', '3.6.7', '3.6.8', '3.6.9.11', '3.7', '3.7.10', '3.7.11', '3.7.9', '3.7.9.10', '3.8', '3.8.9', '3.9', '4', '4.10', '4.5', '4.5.7.11', '4.5.9', '4.5.9.0', '4.5.9.11', '4.6', '4.6.10', '4.6.11', '4.6.7', '4.6.8.11.1', '4.6.9', '4.6.9.11', '4.7', '4.7.10', '4.7.11', '4.7.9', '4.7.9.0', '4.7.9.11', '4.8', '4.8.10', '4.8.11', '4.8.9', '4.8.9.11', '4.9', '4.9.10', '5', '5.10', '5.10.11', '5.11', '5.6', '5.7', '5.7.0', '5.7.10', '5.7.8.0', '5.8', '5.8.0', '5.8.10', '5.8.11', '5.9', '5.9.0', '5.9.11', '5.9.11.0', '6', '6.10', '6.10.0', '6.10.1', '6.10.11', '6.10.11.1', '6.11', '6.11.0', '6.7', '6.7.0', '6.7.11', '6.7.11.2', '6.8', '6.8.0', '6.8.1', '6.8.10', '6.8.10.0.3', '6.8.11', '6.8.11.2', '6.9', '6.9.0', '6.9.0.2', '6.9.1', '6.9.11', '6.9.11.2', '7', '7.0', '7.10', '7.10.0', '7.10.0.3', '7.10.1', '7.10.1.3', '7.10.2', '7.11', '7.11.0', '7.11.2', '7.8', '7.8.0', '7.8.0.3', '7.8.10.2', '7.8.11', '7.9', '7.9.0', '7.9.1', '7.9.11', '7.9.11.2', '7.9.2', '8', '8.0', '8.0.1', '8.0.2', '8.0.3', '8.1', '8.10', '8.10.0', '8.10.1', '8.10.11.1.4', '8.10.11.3', '8.10.2', '8.10.3', '8.11', '8.11.1', '8.11.1.4', '8.11.2', '8.11.3', '8.9', '8.9.1', '8.9.1.3', '8.9.1.4', '8.9.11.1', '8.9.2', '9', '9.0', '9.0.2', '9.0.2.4', '9.0.2.5', '9.0.3', '9.0.3.5', '9.0.4', '9.1', '9.1.4', '9.10', '9.10.2', '9.10.2.4', '9.11', '9.11.0.4', '9.11.1', '9.11.2', '9.11.2.4', '9.11.2.5', '9.11.3', '9.11.4', '9.2', '9.2.3', 'A0', 'A1', 'A2', 'A3', 'A4', 'A5', 'A6', 'B-1', 'B-2', 'B-3', 'B-4', 'B-5', 'B-6', 'B0', 'B1', 'B2', 'B3', 'B4', 'B5', 'B6', 'C#1', 'C#2', 'C#3', 'C#4', 'C#5', 'C#6', 'C#7', 'C1', 'C2', 'C3', 'C4', 'C5', 'C6', 'C7', 'D1', 'D2', 'D3', 'D4', 'D5', 'D6', 'D7', 'E-1', 'E-2', 'E-3', 'E-4', 'E-5', 'E-6', 'E1', 'E2', 'E3', 'E4', 'E5', 'E6', 'F#1', 'F#2', 'F#3', 'F#4', 'F#5', 'F#6', 'F1', 'F2', 'F3', 'F4', 'F5', 'F6', 'G#1', 'G#2', 'G#3', 'G#4', 'G#5', 'G#6', 'G1', 'G2', 'G3', 'G4', 'G5', 'G6']\n",
            "sequence_in:  ['B-2', 'G#2', 'G2', 'F2', 'G2', 'G#2', '3.7.10', 'F2', 'G2', 'G#2', 'F2', 'G2', 'G#2', 'B-2', 'G#2', 'G2', 'F2', 'C#3', 'C3', '5.8.0', 'F2', 'G2', 'G#2', 'F2', 'G2', 'G#2', 'B-2', 'G#2', 'G2', 'F2', 'G2', 'G#2', 'F2', 'G2', 'G#2', 'F2', 'G2', 'G#2', 'B-2', 'G#2', 'G2', 'F2', 'C#3', 'C3', '1.5', 'F2', 'G2', 'G#2', 'F2', 'G2', 'G#2', 'B-2', 'G#2', 'G2', 'F2', 'G2', 'G#2', '3.7.10', 'F2', 'G2', 'G#2', 'F2', 'G2', 'G#2', 'B-2', 'G#2', 'G2', 'F2', 'C#3', 'C3', '5.8.0', 'F2', 'G2', 'G#2', 'F2', 'G2', 'G#2', 'B-2', 'G#2', 'G2', 'F2', 'G2', 'G#2', 'F2', 'G2', 'G#2', 'F2', 'G2', 'G#2', 'B-2', 'G#2', 'G2', 'F2', 'C#3', 'C3', 'F2', 'F2', 'F2', 'F2', 'F2']\n",
            "sequence_out:  F1\n"
          ],
          "name": "stdout"
        }
      ]
    },
    {
      "cell_type": "markdown",
      "metadata": {
        "id": "izKm0jot8nqr"
      },
      "source": [
        "Guardiamo la nuova dimensione di network_input\n"
      ]
    },
    {
      "cell_type": "code",
      "metadata": {
        "colab": {
          "base_uri": "https://localhost:8080/"
        },
        "id": "VTJ6k6Pv8uWg",
        "outputId": "5bb76bf9-03de-4956-a50c-15e43fcbf300"
      },
      "source": [
        "network_input.shape"
      ],
      "execution_count": null,
      "outputs": [
        {
          "output_type": "execute_result",
          "data": {
            "text/plain": [
              "(57077, 100, 1)"
            ]
          },
          "metadata": {
            "tags": []
          },
          "execution_count": 44
        }
      ]
    },
    {
      "cell_type": "markdown",
      "metadata": {
        "id": "FWy9raJ282To"
      },
      "source": [
        "## Creare il modello\n",
        "\n",
        "Per questo modello verra' usata una rete **Stacked LSTM**.\n",
        "Stacked significa che il modello sara' formato da molteplici layer nascosti, dove ognuno di essi contiene multiple celle di memoria. In questo modo il modello sara' piu' robusto.\n",
        "\n",
        "Importante notare che return sequences avra' valore **True** (sarebbe False di default). Cio' significa che ad ogni step verra' generato un nuovo valore di output.\n",
        "\n",
        "Creiamo la rete. Creeremo una rete di 9 layer (3 di loro **LSTM layers**).\n",
        "\n",
        "Per regolazizzare, aggiungeremo anche 2 **layer di Dropout**\n",
        "\n",
        "I layer di dropout sono una forma di regolarizzazione. Riducono l'over fitting simulando diverse reti neurali. Consistono nel settare una parte di input a 0 ad ogni aggiornamento dell'addestramento prevenendo l'overfitting. Questa frazione di input e' determinata dai parametri usati nel layer.\n",
        "\n",
        "I layer LSTM sono una rete neurale ricorrente che prende una sequenza come input e puo' restituire una sequenza (return_sequences=True) o una **Matrice** come output.\n",
        "\n",
        "\n",
        "I Dense layer o fully connected layer sono una rete neurale fully connected dove ogni nodo di input e' connesso ad ogni nodo di output.\n",
        "\n",
        "Il layer di attivazione determina quale funzione di attivazione verra' usata per calcolare l'output di un nodo.\n",
        "\n",
        "\n",
        "Nel codice la dimensione di ogni sequenza sara' di 100 note/accordi. Questo significa che per predirre la nota successiva nella sequenza, la rete ha le precedenti 100 note per aiutare la predizione.\n",
        "\n",
        "\n",
        "Normalizzeremo l'input e faremo one-hot encoding sull'output.\n",
        "\n",
        "One hot encoding e' una elaborazione dati dove le variabili categoriali sono convertite in un formato consono per il machine learning.\n"
      ]
    },
    {
      "cell_type": "code",
      "metadata": {
        "id": "VGI66MiD9NUX"
      },
      "source": [
        "def create_network(network_input, n_vocab, learning_rate):\n",
        "    \"\"\" create the structure of the neural network \"\"\"\n",
        "    model = Sequential()\n",
        "    model.add(LSTM(\n",
        "        512,\n",
        "        input_shape=(network_input.shape[1], network_input.shape[2]),\n",
        "        return_sequences=True\n",
        "    ))\n",
        "    model.add(Dropout(0.3))\n",
        "    model.add(LSTM(512, return_sequences=True))\n",
        "    model.add(Dropout(0.3))\n",
        "    model.add(LSTM(512))\n",
        "    model.add(Dense((256), activation='relu'))\n",
        "    model.add(Dropout(0.3))\n",
        "    model.add(Dense(n_vocab))\n",
        "    model.add(Activation('softmax'))\n",
        "    rms = tf.keras.optimizers.RMSprop(lr=learning_rate)\n",
        "    model.compile(loss='categorical_crossentropy', optimizer = rms, metrics='acc')\n",
        "    return model"
      ],
      "execution_count": null,
      "outputs": []
    },
    {
      "cell_type": "markdown",
      "metadata": {
        "id": "gON2ZO6WBskr"
      },
      "source": [
        "\n",
        "Per ogni layer LSTM, Dense e di Attivazione il primo parametro e' quanti nodi dovra' avere il layer. Per i layer di Dropout il primo parametro e' la frazione di unita' di input che dovrebbe settare a 0 durante il training.\n",
        "\n",
        "\n",
        "Per il primo layer dovremo settare un parametro unico chiamato input_shape.\n",
        "Serve ad informare la rete su che tipo di forma avranno i dati su cui verra' addestrata.\n",
        "\n",
        "Il numero di nodi dell'ultimo layer dovrebbero essere gli stessi del numero di output del nostro sistema. In questo modo ci assicuriamo che gli output della rete verranno mappati alle classi.\n",
        "\n",
        "\n",
        "Per calcolare il valore di loss ad ogni iterazione dell'addestramento useremo *categorical cross entropy* siccome ognuno dei nostri output appartiene ad una singola classe e dovremo lavorare con piu' classi. Per ottimizzare la rete useremo **RMSprop optimizer** che e' generalmente un'ottima scelta pere le RNN."
      ]
    },
    {
      "cell_type": "code",
      "metadata": {
        "id": "F3o8N3Gh9Wmg",
        "colab": {
          "base_uri": "https://localhost:8080/"
        },
        "outputId": "7302755e-f676-44e3-afee-a1aecb457e7c"
      },
      "source": [
        "learning_rate = 0.0005 \n",
        "model = create_network(network_input,n_vocab, learning_rate)\n",
        "model.summary()"
      ],
      "execution_count": null,
      "outputs": [
        {
          "output_type": "stream",
          "text": [
            "Model: \"sequential_2\"\n",
            "_________________________________________________________________\n",
            "Layer (type)                 Output Shape              Param #   \n",
            "=================================================================\n",
            "lstm_6 (LSTM)                (None, 100, 512)          1052672   \n",
            "_________________________________________________________________\n",
            "dropout_6 (Dropout)          (None, 100, 512)          0         \n",
            "_________________________________________________________________\n",
            "lstm_7 (LSTM)                (None, 100, 512)          2099200   \n",
            "_________________________________________________________________\n",
            "dropout_7 (Dropout)          (None, 100, 512)          0         \n",
            "_________________________________________________________________\n",
            "lstm_8 (LSTM)                (None, 512)               2099200   \n",
            "_________________________________________________________________\n",
            "dense_4 (Dense)              (None, 256)               131328    \n",
            "_________________________________________________________________\n",
            "dropout_8 (Dropout)          (None, 256)               0         \n",
            "_________________________________________________________________\n",
            "dense_5 (Dense)              (None, 358)               92006     \n",
            "_________________________________________________________________\n",
            "activation_2 (Activation)    (None, 358)               0         \n",
            "=================================================================\n",
            "Total params: 5,474,406\n",
            "Trainable params: 5,474,406\n",
            "Non-trainable params: 0\n",
            "_________________________________________________________________\n"
          ],
          "name": "stdout"
        }
      ]
    },
    {
      "cell_type": "code",
      "metadata": {
        "colab": {
          "base_uri": "https://localhost:8080/",
          "height": 1000
        },
        "id": "qhn-lWTdfRxh",
        "outputId": "2964ee27-e3b3-454d-caeb-866e8207992d"
      },
      "source": [
        "plot_model(model, to_file='model_plot.png', show_shapes=True, show_layer_names=True)"
      ],
      "execution_count": null,
      "outputs": [
        {
          "output_type": "execute_result",
          "data": {
            "image/png": "[encoded data removed]",
            "text/plain": [
              "<IPython.core.display.Image object>"
            ]
          },
          "metadata": {
            "tags": []
          },
          "execution_count": 47
        }
      ]
    },
    {
      "cell_type": "markdown",
      "metadata": {
        "id": "QWDZfC4f9RKc"
      },
      "source": [
        "In caso volessimo utilizzare pesi precedentemente addestrati per continuare l'addestramento da dove era stato interrotto dovremmo caricarli nel modello.\n",
        "\n",
        "Molto utile in Google Colaboratory, che solitamente interrompe l'esecuzione dopo un certo ammontare di tempo."
      ]
    },
    {
      "cell_type": "code",
      "metadata": {
        "id": "j1YmAgey-OsN"
      },
      "source": [
        "# Inserire un path a un weight pre-addestrato\n",
        "weights = ''\n",
        "if(len(weights)>2): model.load_weights(weights)"
      ],
      "execution_count": null,
      "outputs": []
    },
    {
      "cell_type": "markdown",
      "metadata": {
        "id": "59QIsRQI-SrG"
      },
      "source": [
        "Utilizzeremo **ModelCheckpoint**.\n",
        "\n",
        "ModelCheckpoint salvera' i nostri in un file dopo ogni epoch terminata.\n",
        "\n",
        "In questo modo e' possibile riprendere l'addestramento anche dopo che esso e' stato interrotto.\n",
        "\n",
        "Si puo' addestrare la rete per quante epochs si vuole. Con circa **70 epochs** la rete e' capace di comporre musica accettabile. Non serve un valore di loss molto basso, 0.7 o 0.8 va bene. \n"
      ]
    },
    {
      "cell_type": "code",
      "metadata": {
        "id": "O_jE42ro-qdJ",
        "colab": {
          "base_uri": "https://localhost:8080/",
          "height": 384
        },
        "outputId": "3cda597c-fdfc-42de-95e6-9e6c97e5b94c"
      },
      "source": [
        "from pathlib import Path\n",
        "\n",
        "data_folder = Path(\"/content/drive/MyDrive/checkpoints/\" + str(sequence_length)) \n",
        "filepath = data_folder / \"{epoch:02d}-{loss:.4f}.h5\"\n",
        " \n",
        "checkpoint = ModelCheckpoint(filepath, monitor='loss',verbose=0,\n",
        "                             save_best_only=True, mode='min')\n",
        " \n",
        "callbacks_list = [checkpoint]\n",
        "\n",
        "history = model.fit(network_input, network_output, epochs=300,  batch_size=64, callbacks=callbacks_list) # validation_split per val_accuracy e val_loss"
      ],
      "execution_count": null,
      "outputs": [
        {
          "output_type": "stream",
          "text": [
            "Epoch 1/300\n",
            " 14/892 [..............................] - ETA: 1:34 - loss: 5.6863 - acc: 0.0112"
          ],
          "name": "stdout"
        },
        {
          "output_type": "error",
          "ename": "KeyboardInterrupt",
          "evalue": "ignored",
          "traceback": [
            "\u001b[0;31m---------------------------------------------------------------------------\u001b[0m",
            "\u001b[0;31mKeyboardInterrupt\u001b[0m                         Traceback (most recent call last)",
            "\u001b[0;32m<ipython-input-49-348110fb746c>\u001b[0m in \u001b[0;36m<module>\u001b[0;34m()\u001b[0m\n\u001b[1;32m      9\u001b[0m \u001b[0mcallbacks_list\u001b[0m \u001b[0;34m=\u001b[0m \u001b[0;34m[\u001b[0m\u001b[0mcheckpoint\u001b[0m\u001b[0;34m]\u001b[0m\u001b[0;34m\u001b[0m\u001b[0;34m\u001b[0m\u001b[0m\n\u001b[1;32m     10\u001b[0m \u001b[0;34m\u001b[0m\u001b[0m\n\u001b[0;32m---> 11\u001b[0;31m \u001b[0mhistory\u001b[0m \u001b[0;34m=\u001b[0m \u001b[0mmodel\u001b[0m\u001b[0;34m.\u001b[0m\u001b[0mfit\u001b[0m\u001b[0;34m(\u001b[0m\u001b[0mnetwork_input\u001b[0m\u001b[0;34m,\u001b[0m \u001b[0mnetwork_output\u001b[0m\u001b[0;34m,\u001b[0m \u001b[0mepochs\u001b[0m\u001b[0;34m=\u001b[0m\u001b[0;36m300\u001b[0m\u001b[0;34m,\u001b[0m  \u001b[0mbatch_size\u001b[0m\u001b[0;34m=\u001b[0m\u001b[0;36m64\u001b[0m\u001b[0;34m,\u001b[0m \u001b[0mcallbacks\u001b[0m\u001b[0;34m=\u001b[0m\u001b[0mcallbacks_list\u001b[0m\u001b[0;34m)\u001b[0m \u001b[0;31m# validation_split per val_accuracy e val_loss\u001b[0m\u001b[0;34m\u001b[0m\u001b[0;34m\u001b[0m\u001b[0m\n\u001b[0m",
            "\u001b[0;32m/usr/local/lib/python3.7/dist-packages/tensorflow/python/keras/engine/training.py\u001b[0m in \u001b[0;36mfit\u001b[0;34m(self, x, y, batch_size, epochs, verbose, callbacks, validation_split, validation_data, shuffle, class_weight, sample_weight, initial_epoch, steps_per_epoch, validation_steps, validation_batch_size, validation_freq, max_queue_size, workers, use_multiprocessing)\u001b[0m\n\u001b[1;32m   1098\u001b[0m                 _r=1):\n\u001b[1;32m   1099\u001b[0m               \u001b[0mcallbacks\u001b[0m\u001b[0;34m.\u001b[0m\u001b[0mon_train_batch_begin\u001b[0m\u001b[0;34m(\u001b[0m\u001b[0mstep\u001b[0m\u001b[0;34m)\u001b[0m\u001b[0;34m\u001b[0m\u001b[0;34m\u001b[0m\u001b[0m\n\u001b[0;32m-> 1100\u001b[0;31m               \u001b[0mtmp_logs\u001b[0m \u001b[0;34m=\u001b[0m \u001b[0mself\u001b[0m\u001b[0;34m.\u001b[0m\u001b[0mtrain_function\u001b[0m\u001b[0;34m(\u001b[0m\u001b[0miterator\u001b[0m\u001b[0;34m)\u001b[0m\u001b[0;34m\u001b[0m\u001b[0;34m\u001b[0m\u001b[0m\n\u001b[0m\u001b[1;32m   1101\u001b[0m               \u001b[0;32mif\u001b[0m \u001b[0mdata_handler\u001b[0m\u001b[0;34m.\u001b[0m\u001b[0mshould_sync\u001b[0m\u001b[0;34m:\u001b[0m\u001b[0;34m\u001b[0m\u001b[0;34m\u001b[0m\u001b[0m\n\u001b[1;32m   1102\u001b[0m                 \u001b[0mcontext\u001b[0m\u001b[0;34m.\u001b[0m\u001b[0masync_wait\u001b[0m\u001b[0;34m(\u001b[0m\u001b[0;34m)\u001b[0m\u001b[0;34m\u001b[0m\u001b[0;34m\u001b[0m\u001b[0m\n",
            "\u001b[0;32m/usr/local/lib/python3.7/dist-packages/tensorflow/python/eager/def_function.py\u001b[0m in \u001b[0;36m__call__\u001b[0;34m(self, *args, **kwds)\u001b[0m\n\u001b[1;32m    826\u001b[0m     \u001b[0mtracing_count\u001b[0m \u001b[0;34m=\u001b[0m \u001b[0mself\u001b[0m\u001b[0;34m.\u001b[0m\u001b[0mexperimental_get_tracing_count\u001b[0m\u001b[0;34m(\u001b[0m\u001b[0;34m)\u001b[0m\u001b[0;34m\u001b[0m\u001b[0;34m\u001b[0m\u001b[0m\n\u001b[1;32m    827\u001b[0m     \u001b[0;32mwith\u001b[0m \u001b[0mtrace\u001b[0m\u001b[0;34m.\u001b[0m\u001b[0mTrace\u001b[0m\u001b[0;34m(\u001b[0m\u001b[0mself\u001b[0m\u001b[0;34m.\u001b[0m\u001b[0m_name\u001b[0m\u001b[0;34m)\u001b[0m \u001b[0;32mas\u001b[0m \u001b[0mtm\u001b[0m\u001b[0;34m:\u001b[0m\u001b[0;34m\u001b[0m\u001b[0;34m\u001b[0m\u001b[0m\n\u001b[0;32m--> 828\u001b[0;31m       \u001b[0mresult\u001b[0m \u001b[0;34m=\u001b[0m \u001b[0mself\u001b[0m\u001b[0;34m.\u001b[0m\u001b[0m_call\u001b[0m\u001b[0;34m(\u001b[0m\u001b[0;34m*\u001b[0m\u001b[0margs\u001b[0m\u001b[0;34m,\u001b[0m \u001b[0;34m**\u001b[0m\u001b[0mkwds\u001b[0m\u001b[0;34m)\u001b[0m\u001b[0;34m\u001b[0m\u001b[0;34m\u001b[0m\u001b[0m\n\u001b[0m\u001b[1;32m    829\u001b[0m       \u001b[0mcompiler\u001b[0m \u001b[0;34m=\u001b[0m \u001b[0;34m\"xla\"\u001b[0m \u001b[0;32mif\u001b[0m \u001b[0mself\u001b[0m\u001b[0;34m.\u001b[0m\u001b[0m_experimental_compile\u001b[0m \u001b[0;32melse\u001b[0m \u001b[0;34m\"nonXla\"\u001b[0m\u001b[0;34m\u001b[0m\u001b[0;34m\u001b[0m\u001b[0m\n\u001b[1;32m    830\u001b[0m       \u001b[0mnew_tracing_count\u001b[0m \u001b[0;34m=\u001b[0m \u001b[0mself\u001b[0m\u001b[0;34m.\u001b[0m\u001b[0mexperimental_get_tracing_count\u001b[0m\u001b[0;34m(\u001b[0m\u001b[0;34m)\u001b[0m\u001b[0;34m\u001b[0m\u001b[0;34m\u001b[0m\u001b[0m\n",
            "\u001b[0;32m/usr/local/lib/python3.7/dist-packages/tensorflow/python/eager/def_function.py\u001b[0m in \u001b[0;36m_call\u001b[0;34m(self, *args, **kwds)\u001b[0m\n\u001b[1;32m    853\u001b[0m       \u001b[0;31m# In this case we have created variables on the first call, so we run the\u001b[0m\u001b[0;34m\u001b[0m\u001b[0;34m\u001b[0m\u001b[0;34m\u001b[0m\u001b[0m\n\u001b[1;32m    854\u001b[0m       \u001b[0;31m# defunned version which is guaranteed to never create variables.\u001b[0m\u001b[0;34m\u001b[0m\u001b[0;34m\u001b[0m\u001b[0;34m\u001b[0m\u001b[0m\n\u001b[0;32m--> 855\u001b[0;31m       \u001b[0;32mreturn\u001b[0m \u001b[0mself\u001b[0m\u001b[0;34m.\u001b[0m\u001b[0m_stateless_fn\u001b[0m\u001b[0;34m(\u001b[0m\u001b[0;34m*\u001b[0m\u001b[0margs\u001b[0m\u001b[0;34m,\u001b[0m \u001b[0;34m**\u001b[0m\u001b[0mkwds\u001b[0m\u001b[0;34m)\u001b[0m  \u001b[0;31m# pylint: disable=not-callable\u001b[0m\u001b[0;34m\u001b[0m\u001b[0;34m\u001b[0m\u001b[0m\n\u001b[0m\u001b[1;32m    856\u001b[0m     \u001b[0;32melif\u001b[0m \u001b[0mself\u001b[0m\u001b[0;34m.\u001b[0m\u001b[0m_stateful_fn\u001b[0m \u001b[0;32mis\u001b[0m \u001b[0;32mnot\u001b[0m \u001b[0;32mNone\u001b[0m\u001b[0;34m:\u001b[0m\u001b[0;34m\u001b[0m\u001b[0;34m\u001b[0m\u001b[0m\n\u001b[1;32m    857\u001b[0m       \u001b[0;31m# Release the lock early so that multiple threads can perform the call\u001b[0m\u001b[0;34m\u001b[0m\u001b[0;34m\u001b[0m\u001b[0;34m\u001b[0m\u001b[0m\n",
            "\u001b[0;32m/usr/local/lib/python3.7/dist-packages/tensorflow/python/eager/function.py\u001b[0m in \u001b[0;36m__call__\u001b[0;34m(self, *args, **kwargs)\u001b[0m\n\u001b[1;32m   2941\u001b[0m        filtered_flat_args) = self._maybe_define_function(args, kwargs)\n\u001b[1;32m   2942\u001b[0m     return graph_function._call_flat(\n\u001b[0;32m-> 2943\u001b[0;31m         filtered_flat_args, captured_inputs=graph_function.captured_inputs)  # pylint: disable=protected-access\n\u001b[0m\u001b[1;32m   2944\u001b[0m \u001b[0;34m\u001b[0m\u001b[0m\n\u001b[1;32m   2945\u001b[0m   \u001b[0;34m@\u001b[0m\u001b[0mproperty\u001b[0m\u001b[0;34m\u001b[0m\u001b[0;34m\u001b[0m\u001b[0m\n",
            "\u001b[0;32m/usr/local/lib/python3.7/dist-packages/tensorflow/python/eager/function.py\u001b[0m in \u001b[0;36m_call_flat\u001b[0;34m(self, args, captured_inputs, cancellation_manager)\u001b[0m\n\u001b[1;32m   1917\u001b[0m       \u001b[0;31m# No tape is watching; skip to running the function.\u001b[0m\u001b[0;34m\u001b[0m\u001b[0;34m\u001b[0m\u001b[0;34m\u001b[0m\u001b[0m\n\u001b[1;32m   1918\u001b[0m       return self._build_call_outputs(self._inference_function.call(\n\u001b[0;32m-> 1919\u001b[0;31m           ctx, args, cancellation_manager=cancellation_manager))\n\u001b[0m\u001b[1;32m   1920\u001b[0m     forward_backward = self._select_forward_and_backward_functions(\n\u001b[1;32m   1921\u001b[0m         \u001b[0margs\u001b[0m\u001b[0;34m,\u001b[0m\u001b[0;34m\u001b[0m\u001b[0;34m\u001b[0m\u001b[0m\n",
            "\u001b[0;32m/usr/local/lib/python3.7/dist-packages/tensorflow/python/eager/function.py\u001b[0m in \u001b[0;36mcall\u001b[0;34m(self, ctx, args, cancellation_manager)\u001b[0m\n\u001b[1;32m    558\u001b[0m               \u001b[0minputs\u001b[0m\u001b[0;34m=\u001b[0m\u001b[0margs\u001b[0m\u001b[0;34m,\u001b[0m\u001b[0;34m\u001b[0m\u001b[0;34m\u001b[0m\u001b[0m\n\u001b[1;32m    559\u001b[0m               \u001b[0mattrs\u001b[0m\u001b[0;34m=\u001b[0m\u001b[0mattrs\u001b[0m\u001b[0;34m,\u001b[0m\u001b[0;34m\u001b[0m\u001b[0;34m\u001b[0m\u001b[0m\n\u001b[0;32m--> 560\u001b[0;31m               ctx=ctx)\n\u001b[0m\u001b[1;32m    561\u001b[0m         \u001b[0;32melse\u001b[0m\u001b[0;34m:\u001b[0m\u001b[0;34m\u001b[0m\u001b[0;34m\u001b[0m\u001b[0m\n\u001b[1;32m    562\u001b[0m           outputs = execute.execute_with_cancellation(\n",
            "\u001b[0;32m/usr/local/lib/python3.7/dist-packages/tensorflow/python/eager/execute.py\u001b[0m in \u001b[0;36mquick_execute\u001b[0;34m(op_name, num_outputs, inputs, attrs, ctx, name)\u001b[0m\n\u001b[1;32m     58\u001b[0m     \u001b[0mctx\u001b[0m\u001b[0;34m.\u001b[0m\u001b[0mensure_initialized\u001b[0m\u001b[0;34m(\u001b[0m\u001b[0;34m)\u001b[0m\u001b[0;34m\u001b[0m\u001b[0;34m\u001b[0m\u001b[0m\n\u001b[1;32m     59\u001b[0m     tensors = pywrap_tfe.TFE_Py_Execute(ctx._handle, device_name, op_name,\n\u001b[0;32m---> 60\u001b[0;31m                                         inputs, attrs, num_outputs)\n\u001b[0m\u001b[1;32m     61\u001b[0m   \u001b[0;32mexcept\u001b[0m \u001b[0mcore\u001b[0m\u001b[0;34m.\u001b[0m\u001b[0m_NotOkStatusException\u001b[0m \u001b[0;32mas\u001b[0m \u001b[0me\u001b[0m\u001b[0;34m:\u001b[0m\u001b[0;34m\u001b[0m\u001b[0;34m\u001b[0m\u001b[0m\n\u001b[1;32m     62\u001b[0m     \u001b[0;32mif\u001b[0m \u001b[0mname\u001b[0m \u001b[0;32mis\u001b[0m \u001b[0;32mnot\u001b[0m \u001b[0;32mNone\u001b[0m\u001b[0;34m:\u001b[0m\u001b[0;34m\u001b[0m\u001b[0;34m\u001b[0m\u001b[0m\n",
            "\u001b[0;31mKeyboardInterrupt\u001b[0m: "
          ]
        }
      ]
    },
    {
      "cell_type": "code",
      "metadata": {
        "id": "EVadHYbwnGIL"
      },
      "source": [
        "# list all data in history\n",
        "print(history.history.keys())\n",
        "# summarize history for loss\n",
        "plt.plot(history.history['loss'])\n",
        "#plt.plot(history.history['acc'])\n",
        "plt.title('model loss')\n",
        "plt.ylabel('loss')\n",
        "plt.xlabel('epoch')\n",
        "plt.legend(['train', 'test'], loc='upper left')\n",
        "plt.show()"
      ],
      "execution_count": null,
      "outputs": []
    },
    {
      "cell_type": "markdown",
      "metadata": {
        "id": "wby9bXbbAKgO"
      },
      "source": [
        "## Generazione della Musica\n",
        "\n",
        "Si puo' utilizzare un weight pre-addestrato come [questo](https://drive.google.com/file/d/1UgCa_4LPxw_6cYMxnYeS555TEQg8tRQ1/view?usp=sharing)"
      ]
    },
    {
      "cell_type": "code",
      "metadata": {
        "id": "IJOY-lIZAWkw"
      },
      "source": [
        "# Per utilizzare il weight addestrato\n",
        "weights = \"/content/drive/MyDrive/musGen/weight100SL/300-0.2556.h5\" # modificare il numero in base all'epoca scelta\n",
        "if(len(weights)>0): model.load_weights(weights)"
      ],
      "execution_count": null,
      "outputs": []
    },
    {
      "cell_type": "code",
      "metadata": {
        "id": "bFowyKBcAZ50",
        "colab": {
          "base_uri": "https://localhost:8080/"
        },
        "outputId": "f6b04056-85bc-4bae-88fa-4dd87c178e23"
      },
      "source": [
        "# Generiamo un network input di nuovo\n",
        "network_input = []\n",
        "output = []\n",
        "for i in range(0, len(notes) - sequence_length, 1):\n",
        "  sequence_in = notes[i:i + sequence_length]\n",
        "  sequence_out = notes[i + sequence_length]\n",
        "  network_input.append([note_to_int[char] for char in sequence_in])\n",
        "  output.append(note_to_int[sequence_out])\n",
        "n_patterns = len(network_input)\n",
        "len(network_input)"
      ],
      "execution_count": null,
      "outputs": [
        {
          "output_type": "execute_result",
          "data": {
            "text/plain": [
              "57077"
            ]
          },
          "metadata": {
            "tags": []
          },
          "execution_count": 51
        }
      ]
    },
    {
      "cell_type": "markdown",
      "metadata": {
        "id": "cf5nHzg6AhO5"
      },
      "source": [
        "Ora bisogna:\n",
        "\n",
        "\n",
        "1.   Selezionare una **seed sequence** casuale dalla lista di input (variabile *pattern*)\n",
        "2.   Passarlo come input per il modello per generare un nuovo elemento (nota o accordo)\n",
        "3.   Aggiungere il nuovo elemento alla composizione finale e nella *pattern* list\n",
        "4.   Rimuovere il primo elemento da *pattern*\n",
        "5.   Ripetere dal punto 2\n",
        "\n",
        "\n"
      ]
    },
    {
      "cell_type": "code",
      "metadata": {
        "id": "QMXJEiDJBLnI"
      },
      "source": [
        "\"\"\" Generiamo le nota dalla rete neutale basata su una sequenza di note\"\"\"\n",
        "# scegliamo una sequenza casuale dall'input come punto di partenza per le predizioni successive\n",
        "start = numpy.random.randint(0, len(network_input)-1)\n",
        "int_to_note = dict((number, note) for number, note in enumerate(pitchnames))\n",
        "pattern = network_input[start]\n",
        "prediction_output = []\n",
        "# genera 500 note\n",
        "\n",
        "for i,note_index in enumerate(range(500)):\n",
        "  prediction_input = numpy.reshape(pattern, (1, len(pattern), 1))\n",
        "  prediction_input = prediction_input / float(n_vocab)\n",
        "  prediction = model.predict(prediction_input, verbose=0)\n",
        "  index = numpy.argmax(prediction)\n",
        "  result = int_to_note[index]\n",
        "  print('\\r', 'Predicted ', i, \" \",result, \" \", end='')\n",
        "  prediction_output.append(result)\n",
        "  pattern.append(index)\n",
        "  pattern = pattern[1:len(pattern)]\n"
      ],
      "execution_count": null,
      "outputs": []
    },
    {
      "cell_type": "code",
      "metadata": {
        "id": "XPUIFTYUsMLl",
        "colab": {
          "base_uri": "https://localhost:8080/"
        },
        "outputId": "8d5d7ed9-2f67-4073-ae89-cfbc0519000b"
      },
      "source": [
        "\"\"\" Generiamo le nota dalla rete neutale basata su una sequenza di note\"\"\"\n",
        "# scegliamo una sequenza di 30 note da un midi del dataset come punto di partenza per le predizioni successive\n",
        "start = numpy.random.randint(0, len(network_input)-1)\n",
        "int_to_note = dict((number, note) for number, note in enumerate(pitchnames))\n",
        "pattern = network_input[start]\n",
        "prediction_output = startSong\n",
        "# genera 470 note dopo le prime 30 inserite\n",
        "\n",
        "for i,note_index in enumerate(range(470)):\n",
        "  prediction_input = numpy.reshape(pattern, (1, len(pattern), 1))\n",
        "  prediction_input = prediction_input / float(n_vocab)\n",
        "  prediction = model.predict(prediction_input, verbose=0)\n",
        "  index = numpy.argmax(prediction)\n",
        "  result = int_to_note[index]\n",
        "  print('\\r', 'Predicted ', i, \" \",result, \" \", end='')\n",
        "  prediction_output.append(result)\n",
        "  pattern.append(index)\n",
        "  pattern = pattern[1:len(pattern)]\n",
        "\n",
        "print(start)"
      ],
      "execution_count": null,
      "outputs": [
        {
          "output_type": "stream",
          "text": [
            " Predicted  169   G4  33314\n"
          ],
          "name": "stdout"
        }
      ]
    },
    {
      "cell_type": "markdown",
      "metadata": {
        "id": "Tp6gCKtupRBR"
      },
      "source": [
        "\n",
        "Scegliamo di generare 500 note che sono circa 2 minuti di musica. Per ogni nota che vogliamo generare dobbiamo dare alla rete una sequenza.\n",
        "\n",
        "\n",
        "La prima sequenza che diamo e' la sequenza di note all'inizio dell'indice.\n",
        "Per ogni sequenza seguente che usiamo come input, rimuoviamo la prima nota della sequenza e inseriamo l'output della iterazione precedente alla fine della sequenza.\n",
        "\n",
        "\n",
        "\n",
        "![Sequenza](https://miro.medium.com/max/486/1*lsMVJ484dEqIVMFyJ1gV2g.jpeg)\n",
        "\n"
      ]
    },
    {
      "cell_type": "markdown",
      "metadata": {
        "id": "hpnP6iNaueAF"
      },
      "source": [
        "\n",
        "Per determinare la nota piu' probabile dall'output della rete, estrapoliamo l'indice del valore piu' alto. Il valore all'indice X nell'array di output corrisponde alla probabilita' che X sia la prossima nota.\n",
        "\n",
        "![Prediction](https://miro.medium.com/max/621/1*YpnnaPA1Sm8rzTR4N2knKQ.jpeg)\n",
        "\n",
        "\n",
        "Poi raggruppiamo tutti gli output dalla rete in un singolo array."
      ]
    },
    {
      "cell_type": "markdown",
      "metadata": {
        "id": "I3MEHKboBP6I"
      },
      "source": [
        "## Creazione del MIDI\n",
        "\n",
        "Ora che abbiamo codificato la rappresentazione delle note e degli accordi in un array possiamo decodificarli e creare un arrati di oggetti **Note** e **Chord**.\n",
        "\n",
        "Prima dobbiamo determinare se l'output che stiamo decodificando e' una Nota o un Accordo.\n",
        "\n",
        "\n",
        "Se il pattern e' un accordo, dobbiamo dividere la stringa in un array di note. Poi cicliamo sulla stringa di rappresentazione delle note e creiamo un oggetto **Note** per ognuna di esse. Successivamente possiamo creare un oggetto **Chord** contenente ognuna di queste note.\n",
        "\n",
        "\n",
        "Se il pattern e' una nota, creiamo un oggetto **Note** usando la stringa di rappresentazione del pitch contenunto nel pattern.\n",
        "\n",
        "Il prossimo step e' creare un file MIDI.\n",
        "\n",
        "**music21** ci aiuta in questa operazione. Bisogna creare uno **Stream** e aggiungerlo alle note e accordi predetti.\n",
        "\n",
        "L'offset tra gli elementi sara' 0.5."
      ]
    },
    {
      "cell_type": "code",
      "metadata": {
        "id": "e_doQNhoBura",
        "colab": {
          "base_uri": "https://localhost:8080/",
          "height": 36
        },
        "outputId": "7de8b2c4-695a-49e4-efc5-5955251e6880"
      },
      "source": [
        "offset = 0\n",
        "output_notes = []\n",
        "# crea oggetti note e chord basati sui valori generati dal modello\n",
        "for pattern in prediction_output:\n",
        "    # se pattern e' un oggetto chord\n",
        "    if ('.' in pattern) or pattern.isdigit():\n",
        "        notes_in_chord = pattern.split('.')\n",
        "        notes = []\n",
        "        for current_note in notes_in_chord:\n",
        "            new_note = note.Note(int(current_note))\n",
        "            new_note.storedInstrument = instrument.Piano()\n",
        "            notes.append(new_note)\n",
        "        new_chord = chord.Chord(notes)\n",
        "        new_chord.offset = offset\n",
        "        output_notes.append(new_chord)\n",
        "    # se pattern e' un oggetto note\n",
        "    else:\n",
        "        new_note = note.Note(pattern)\n",
        "        new_note.offset = offset\n",
        "        new_note.storedInstrument = instrument.Piano()\n",
        "        output_notes.append(new_note)\n",
        "\n",
        "    # aumenta l'offset di ogni iterazione \n",
        "    offset += 0.5\n",
        "\n",
        "midi_stream = stream.Stream(output_notes)\n",
        "midi_stream.write('midi', fp='/content/drive/MyDrive/musGen/output100/vincentComp.mid')"
      ],
      "execution_count": null,
      "outputs": [
        {
          "output_type": "execute_result",
          "data": {
            "application/vnd.google.colaboratory.intrinsic+json": {
              "type": "string"
            },
            "text/plain": [
              "'/content/drive/MyDrive/musGen/output100/confrontoCave.mid'"
            ]
          },
          "metadata": {
            "tags": []
          },
          "execution_count": 55
        }
      ]
    },
    {
      "cell_type": "code",
      "metadata": {
        "id": "ca3jnl2ajan_"
      },
      "source": [
        "def playmidi(path):\n",
        "  mf = midi.MidiFile()\n",
        "  mf.open(path) \n",
        "  mf.read()\n",
        "  mf.close()\n",
        "  s = midi.translate.midiFileToStream(mf)\n",
        "  s.show('midi')"
      ],
      "execution_count": null,
      "outputs": []
    },
    {
      "cell_type": "code",
      "metadata": {
        "id": "DeEka440jbLl"
      },
      "source": [
        "playmidi('/content/drive/My Drive/musGen/test_output_FF.mid')"
      ],
      "execution_count": null,
      "outputs": []
    },
    {
      "cell_type": "markdown",
      "metadata": {
        "id": "tLCF2RoEsfop"
      },
      "source": [
        ""
      ]
    }
  ]
}